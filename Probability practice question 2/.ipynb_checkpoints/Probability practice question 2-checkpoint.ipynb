{
 "cells": [
  {
   "cell_type": "markdown",
   "id": "796716a6-5972-4bab-93bf-e26c9c1651ed",
   "metadata": {},
   "source": [
    "# Questions"
   ]
  },
  {
   "cell_type": "markdown",
   "id": "a834b6d7-6176-46a2-95e0-83e740773a63",
   "metadata": {},
   "source": [
    "### 1.A box contains 4 red, 3 green, and 2 blue balls. One ball is picked at random. What is the probability that the ball is not green?"
   ]
  },
  {
   "cell_type": "markdown",
   "id": "89b95597-f155-4f08-95d7-e9aba7d5b9b1",
   "metadata": {},
   "source": [
    "### 2.Two coins are tossed. What is the probability of getting at least one head?"
   ]
  },
  {
   "cell_type": "markdown",
   "id": "9ce55d63-fe49-4a57-b1a7-d7a325b379ef",
   "metadata": {},
   "source": [
    "### 3.A number is chosen at random from the set {1, 2, 3, 4, 5, 6, 7, 8, 9, 10}. What is the probability that the number is a multiple of 3 or 5?"
   ]
  },
  {
   "cell_type": "markdown",
   "id": "b067238c-3a71-4ed7-89fc-d418f41f9c17",
   "metadata": {},
   "source": [
    "### 4.A bag contains 6 white and 4 black balls. Two balls are drawn with replacement. What is the probability that both are white?"
   ]
  },
  {
   "cell_type": "markdown",
   "id": "50d5906b-003b-4b04-bb23-cbfa8424c9cd",
   "metadata": {},
   "source": [
    "### 5.A student knows the answer to 70% of the questions on a test. If one question is selected at random, what is the probability that the student doesn’t know the answer?"
   ]
  },
  {
   "cell_type": "markdown",
   "id": "9ee55a95-005b-472e-8521-a10d8f10091b",
   "metadata": {},
   "source": [
    "# Solutions"
   ]
  },
  {
   "cell_type": "markdown",
   "id": "3999fa67-ef7b-4db2-8093-142d68ddcac8",
   "metadata": {},
   "source": [
    "<img src =\"Prob 1.png\" width =\"700\"/>"
   ]
  },
  {
   "cell_type": "markdown",
   "id": "157e8761-38b2-4e47-89b9-7434646720f8",
   "metadata": {},
   "source": [
    "<img src =\"Prob 2.png\" width =\"700\"/>"
   ]
  },
  {
   "cell_type": "code",
   "execution_count": null,
   "id": "77d19302-bacb-48b4-82cf-acc472c29be3",
   "metadata": {},
   "outputs": [],
   "source": []
  }
 ],
 "metadata": {
  "kernelspec": {
   "display_name": "Python [conda env:base] *",
   "language": "python",
   "name": "conda-base-py"
  },
  "language_info": {
   "codemirror_mode": {
    "name": "ipython",
    "version": 3
   },
   "file_extension": ".py",
   "mimetype": "text/x-python",
   "name": "python",
   "nbconvert_exporter": "python",
   "pygments_lexer": "ipython3",
   "version": "3.12.7"
  }
 },
 "nbformat": 4,
 "nbformat_minor": 5
}
