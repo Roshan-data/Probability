{
 "cells": [
  {
   "cell_type": "markdown",
   "id": "a3bbe863-3c55-466f-b837-ad85a4d3b10e",
   "metadata": {},
   "source": [
    "# Conditional Probability- An Intuitive Introduction"
   ]
  },
  {
   "cell_type": "markdown",
   "id": "c28434de-c47e-4b34-91c5-02af653cf37b",
   "metadata": {},
   "source": [
    "### What is Conditional Probability?\n",
    " **Conditional probability is the probability of an event A occurring, given that\n",
    " another event B has already occurred. It helps us update our understanding based\n",
    " on new information.**\n",
    "\n",
    " We denote it as:\n",
    "\n",
    " - P(A/B) = P(A and B) / P(B)\n",
    "\n",
    " This is read as: “The probability of A given B.”"
   ]
  },
  {
   "cell_type": "markdown",
   "id": "1697be7b-34f1-4c41-b3a3-3b2396859daf",
   "metadata": {},
   "source": [
    "### Law of Total Probability\n",
    "**The Law of Total Probability helps you find the probability of an event A by breaking it down based on other known events \n",
    " B1 , B2 , …Bn**\n",
    "\n",
    "### Formula:\n",
    "  - P(A) = P(A/B1) * P(B1) + P(A/B2) * P(B2) + … + P(A/Bn) * P(Bn)"
   ]
  },
  {
   "cell_type": "markdown",
   "id": "752fbc65-b6d7-466c-b769-2015d46b60e2",
   "metadata": {},
   "source": [
    "### Conditions to Use This Law:\n",
    "\n",
    " ### 1. Partition of the Sample Space\n",
    "    The events B1 , B2 , …, Bn must: \n",
    "\n",
    "   - Be mutually exclusive (no overlap):\n",
    "       No two events can happen at the same time.\n",
    "        \n",
    "   - Be collectively exhaustive:\n",
    "    Together, they cover the entire sample space.\n",
    "\n",
    "\n",
    " ### 2. Known Probabilities\n",
    "      You must know: \n",
    "         - P(Bi) for each event in the partition.P(A/Bi), the conditional probability of A given Bi.\n",
    "\n",
    "         - P(A/Bi), the conditional probability of A given Bi.\n",
    "\n",
    " ### 3. P(Bi) > 0\n",
    "  **The probability of each Bi must be greater than 0, since you can’t condition on\n",
    "  an impossible event.**"
   ]
  },
  {
   "cell_type": "markdown",
   "id": "8ec97f26-c87b-4578-8f45-6580e9d9eef9",
   "metadata": {},
   "source": [
    "### Real-life Analogy\n",
    " Suppose you have a box containing:\n",
    "\n",
    "• 5 red balls\n",
    "\n",
    "• 3 blue balls\n",
    "\n",
    "• 2 green balls\n",
    "\n",
    "   **Now, you’re told that the ball picked is not green. What is the probability that it’s red?**\n",
    " Let:\n",
    "\n",
    "• A = ball is red\n",
    "\n",
    "• B = ball is not green\n",
    "\n",
    " #### Now, out of the 8 balls that are not green (5 red + 3 blue), 5 are red.\n",
    " **So: P(Red / Not Green) = 5 / 8**\n"
   ]
  },
  {
   "cell_type": "markdown",
   "id": "74db3e77-a31f-46e8-9b97-dc1e58f65561",
   "metadata": {},
   "source": [
    "### Formula Breakdown\n",
    " If we know:\n",
    "\n",
    "  - P(A and B): The probability that both A and B happen\n",
    " \n",
    "  - P(B): The probability that B happens\n",
    "\n",
    " ### Then: P(A / B) = P(A and B) / P(B)\n",
    " **This means: among all the outcomes where B occurs, how many also include A?**"
   ]
  },
  {
   "cell_type": "markdown",
   "id": "8bfaceba-7329-439e-b0a2-e41f00d86aa2",
   "metadata": {},
   "source": [
    " ### Example Problem\n",
    " **A class has 60% boys and 40% girls. 30% of the boys and 10% of the girls play\n",
    " football. If a randomly selected student is a football player, what is the probability\n",
    " that the student is a boy?**\n",
    "\n",
    " Let:\n",
    "\n",
    "• B = student is a boy → P(B) = 0.6\n",
    "\n",
    "• G = student is a girl → P(G) = 0.4\n",
    "\n",
    "• F = student plays football\n",
    "\n",
    "    • P(F / B) = 0.3\n",
    "\n",
    "    • P(F / G) = 0.1\n",
    "\n",
    "### Now calculate the total probability that a student plays football:\n",
    " - P(F) = P(F / B) * P(B) + P(F / G) * P(G)\n",
    "\n",
    " - P(F) = 0.3 * 0.6 + 0.1 * 0.4 = 0.18 + 0.04 = 0.22\n",
    "\n",
    "### Now use conditional probability to find P(B / F):\n",
    "\n",
    " - P(B / F) = (P(F / B) * P(B)) / P(F)\n",
    "\n",
    " - P(B / F) = 0.18 / 0.22 ≈ 0.818\n",
    "\n",
    " **So, there’s about an 81.8% chance that a football player is a boy.**"
   ]
  },
  {
   "cell_type": "markdown",
   "id": "6f152b0f-9ef3-40b7-a280-25780c321111",
   "metadata": {},
   "source": [
    "### Common Mistakes to Avoid\n",
    "\n",
    "• Confusing P(A / B) with P(B / A)\n",
    "\n",
    "• Forgetting to divide by P(B)\n",
    "\n",
    "• Assuming P(A / B) is the same as P(B / A) — they are not\n"
   ]
  }
 ],
 "metadata": {
  "kernelspec": {
   "display_name": "Python [conda env:base] *",
   "language": "python",
   "name": "conda-base-py"
  },
  "language_info": {
   "codemirror_mode": {
    "name": "ipython",
    "version": 3
   },
   "file_extension": ".py",
   "mimetype": "text/x-python",
   "name": "python",
   "nbconvert_exporter": "python",
   "pygments_lexer": "ipython3",
   "version": "3.12.7"
  }
 },
 "nbformat": 4,
 "nbformat_minor": 5
}
