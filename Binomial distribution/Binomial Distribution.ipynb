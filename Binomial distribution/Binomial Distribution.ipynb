{
 "cells": [
  {
   "cell_type": "markdown",
   "id": "ce9afa2a-4774-4827-87ec-cd99e8e6683b",
   "metadata": {},
   "source": [
    "# Binomial Distribution"
   ]
  },
  {
   "cell_type": "markdown",
   "id": "2a916461-2f39-4129-9577-a3b5a02957fd",
   "metadata": {},
   "source": [
    " The binomial distribution models the number of successes in a fixed number of independent yes/no experiments, where each has the same probability of success."
   ]
  },
  {
   "cell_type": "markdown",
   "id": "f847b402-7688-4771-ae59-824168ca8741",
   "metadata": {},
   "source": [
    "### Think of this:"
   ]
  },
  {
   "cell_type": "markdown",
   "id": "021474be-ee07-4edf-bc6a-37f6cbbabc87",
   "metadata": {},
   "source": [
    "Toss a coin 10 times\n",
    "What’s the probability of getting exactly 6 heads?\n",
    "\n",
    "That’s a binomial problem"
   ]
  },
  {
   "cell_type": "markdown",
   "id": "6ea227d2-771b-4232-ae0c-eefd4ad14525",
   "metadata": {},
   "source": [
    "### Key Ingredients:\n",
    "\n",
    " • n = number of trials (e.g., 10 tosses)\n",
    "\n",
    " •  p = probability of success (e.g., 0.5 for heads)\n",
    "\n",
    " • x = number of successes (e.g., 6 heads)\n"
   ]
  },
  {
   "cell_type": "markdown",
   "id": "e0b6bbbc-4745-43ee-829b-01a07167ca82",
   "metadata": {},
   "source": [
    "### Plain Text Formula:"
   ]
  },
  {
   "cell_type": "markdown",
   "id": "0edf185e-2865-4de9-9eba-02862b8935a0",
   "metadata": {},
   "source": [
    "## P(X = x) = C(n, x) × p^x × (1 - p)^(n - x)"
   ]
  },
  {
   "cell_type": "markdown",
   "id": "15cac326-730f-4e6f-9c50-2b2080dc44db",
   "metadata": {},
   "source": [
    "WHERE:\n",
    "\n",
    "- C(n, x) is “n choose x” = combinations = number of ways to pick x successes out of n\n",
    "\n",
    "- p^x is the probability of x successes\n",
    "\n",
    "- (1 - p)^(n - x) is the probability of the remaining being failures\n"
   ]
  },
  {
   "cell_type": "markdown",
   "id": "cb982f6e-6a7f-495b-9e74-c684ba271f1f",
   "metadata": {},
   "source": [
    "## Example:\n",
    " 10 coin tosses, what’s the probability of exactly 6 heads?\n",
    "\n",
    "• n = 10\n",
    "\n",
    "• x = 6\n",
    "\n",
    "• p = 0.5\n"
   ]
  },
  {
   "cell_type": "markdown",
   "id": "4dfa06cf-edd2-41de-9ffa-b74117438740",
   "metadata": {},
   "source": [
    "P(6heads) = C(10, 6) * 0.5^6 * 0.5^4 = 210 * (0.015625) * (0.0625) ≈ 0.205\n",
    " So there’s a ~20.5% chance you’ll get exactly 6 heads in 10 tosses"
   ]
  },
  {
   "cell_type": "markdown",
   "id": "5ce1d9b6-30cb-4e9e-9287-c1c38cbada16",
   "metadata": {},
   "source": [
    "### In Python:"
   ]
  },
  {
   "cell_type": "code",
   "execution_count": 1,
   "id": "07c0944b-83a9-4bb6-a1de-bd770e3e230e",
   "metadata": {},
   "outputs": [
    {
     "name": "stdout",
     "output_type": "stream",
     "text": [
      "0.2050781249999999\n"
     ]
    }
   ],
   "source": [
    " from scipy.stats import binom\n",
    " # Probability of exactly 6 heads in 10 tosses (p = 0.5)\n",
    " prob = binom.pmf(k=6, n=10, p=0.5)\n",
    " print(prob) "
   ]
  },
  {
   "cell_type": "markdown",
   "id": "07e9cbcb-33f1-43cd-8067-058f08222e0a",
   "metadata": {},
   "source": [
    "### When to Use:"
   ]
  },
  {
   "cell_type": "markdown",
   "id": "4e2fd66b-242e-4224-a7d3-9283cc694dbe",
   "metadata": {},
   "source": [
    " Email campaign: Will 40 out of 100 people click the link?\n",
    "\n",
    " Quality check: How many out of 10 products will be defective?\n",
    "\n",
    " A/B testing: Will 60 out of 200 visitors convert?"
   ]
  }
 ],
 "metadata": {
  "kernelspec": {
   "display_name": "Python [conda env:base] *",
   "language": "python",
   "name": "conda-base-py"
  },
  "language_info": {
   "codemirror_mode": {
    "name": "ipython",
    "version": 3
   },
   "file_extension": ".py",
   "mimetype": "text/x-python",
   "name": "python",
   "nbconvert_exporter": "python",
   "pygments_lexer": "ipython3",
   "version": "3.12.7"
  }
 },
 "nbformat": 4,
 "nbformat_minor": 5
}
