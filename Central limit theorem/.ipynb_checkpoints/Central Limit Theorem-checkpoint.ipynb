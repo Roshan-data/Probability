{
 "cells": [
  {
   "cell_type": "markdown",
   "id": "f7b6ee76-1dd9-4d7d-b73b-d3874f6e4816",
   "metadata": {},
   "source": [
    "# Central Limit Theorem"
   ]
  },
  {
   "cell_type": "markdown",
   "id": "10709c8e-39d5-469c-b60b-a8d41a8eb21b",
   "metadata": {},
   "source": [
    "## Central Limit Theorem (CLT)"
   ]
  },
  {
   "cell_type": "markdown",
   "id": "c80ca8d2-ab36-41a8-978e-8063f91fb9ac",
   "metadata": {},
   "source": [
    "##### The Central Limit Theorem states:"
   ]
  },
  {
   "cell_type": "markdown",
   "id": "6d4e0edc-056a-46e2-8dfc-a405b94c2198",
   "metadata": {},
   "source": [
    "##### If you take many random samples of size n from any population (with finite mean and variance), then the distribution of the sample means will tend to be approximately normal as n becomes large — regardless of the shape of the original population."
   ]
  },
  {
   "cell_type": "markdown",
   "id": "f143152f-a512-41f7-83a2-770874b06b85",
   "metadata": {},
   "source": [
    "## Mathematical Expression"
   ]
  },
  {
   "cell_type": "markdown",
   "id": "00780cc7-fc73-447d-9ae3-3a7de1c3e5b3",
   "metadata": {},
   "source": [
    "### Let X1, X2, …, Xn be n independent, identically distributed (i.i.d) random variables with:"
   ]
  },
  {
   "cell_type": "markdown",
   "id": "7b009f37-5f67-41dc-b33d-fc160359d2fc",
   "metadata": {},
   "source": [
    "- Mean = mu\n",
    "- Standard deviation = sigma"
   ]
  },
  {
   "cell_type": "markdown",
   "id": "2e4ad9ec-cb9c-4fce-84e6-25e6b2675f52",
   "metadata": {},
   "source": [
    "**Then the sampling distribution of the sample mean (denoted as X) approaches a\n",
    " normal distribution with:**"
   ]
  },
  {
   "cell_type": "markdown",
   "id": "489d309f-117e-4caa-8c72-3d13fd689e55",
   "metadata": {},
   "source": [
    "- Mean = mu\n",
    "\n",
    "- Standard deviation = sigma / sqrt(n)"
   ]
  }
 ],
 "metadata": {
  "kernelspec": {
   "display_name": "Python [conda env:base] *",
   "language": "python",
   "name": "conda-base-py"
  },
  "language_info": {
   "codemirror_mode": {
    "name": "ipython",
    "version": 3
   },
   "file_extension": ".py",
   "mimetype": "text/x-python",
   "name": "python",
   "nbconvert_exporter": "python",
   "pygments_lexer": "ipython3",
   "version": "3.12.7"
  }
 },
 "nbformat": 4,
 "nbformat_minor": 5
}
