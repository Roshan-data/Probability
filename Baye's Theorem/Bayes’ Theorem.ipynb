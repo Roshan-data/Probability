{
 "cells": [
  {
   "cell_type": "markdown",
   "id": "82dc3d54-f9a5-4657-8e7d-a6dd6872827f",
   "metadata": {},
   "source": [
    "# Bayes’ Theorem\n",
    "\n",
    " **Bayes’ Theorem is written as:**\n",
    "     \n",
    " P(A / B) = [P(B / A) * P(A)] / P(B)"
   ]
  },
  {
   "cell_type": "markdown",
   "id": "06133d41-42fe-44a4-b0a3-14c27a46f469",
   "metadata": {},
   "source": [
    "## where:\n",
    "\n",
    "• P(A / B) is the probability of event A occurring given that event B has occurred.\n",
    "    \n",
    "• P(B / A) is the probability of event B occurring given that event A has occurred.\n",
    "    \n",
    "•  P(A) is the prior probability of event A."
   ]
  },
  {
   "cell_type": "markdown",
   "id": "4f2a141a-7191-4a67-bf5c-885e3fabc849",
   "metadata": {},
   "source": [
    "### This can also be interpreted as: P(A / B) = [P(B / A) * P(A)] / [P(B / A) * P(A) + P(B /No A) * P(No A)]\n",
    "\n",
    "**It calculates the probability of event A given that event B has occurred, using the known conditional probability of B given A.**"
   ]
  },
  {
   "cell_type": "markdown",
   "id": "c7c7f102-7da0-4395-a80e-4b79bdef2def",
   "metadata": {},
   "source": [
    " ## Proof of Bayes’ Theorem"
   ]
  },
  {
   "cell_type": "markdown",
   "id": "78dd5ac5-37e3-430d-86dd-e5ef9adc0f21",
   "metadata": {},
   "source": [
    "### We start with the definition of conditional probability:\n",
    "\n",
    " - P(A / B) = P(A and B) / P(B)\n",
    "\n",
    " - P(B / A) = P(A and B\n",
    "                \n",
    "### From equation (2), we can write:\n",
    "                \n",
    " - P(A and B) = P(B / A) * P(A)\n",
    "\n",
    "### Now substitute this into equation (1):\n",
    "\n",
    " - P(A / B) = [P(B / A) * P(A)] / P(B)\n",
    "\n",
    "**This is Bayes’ Theorem.**"
   ]
  },
  {
   "cell_type": "markdown",
   "id": "5e71a52a-4318-45a3-b01c-23ab5caf9869",
   "metadata": {},
   "source": [
    "### Example: Medical Test Problem\n",
    "\n",
    " **Suppose a disease affects 1% of the population. A test for the disease has the following characteristics:**\n",
    "\n",
    "• If a person has the disease, the test is positive 99% of the time → P(Positive / Disease) = 0.99\n",
    "\n",
    "•  If a person does not have the disease, the test is positive 5% of the time →P(Positive / No Disease) = 0.05\n",
    " \n",
    "• The chance of having the disease → P(Disease) = 0.01\n",
    "\n",
    "• The chance of not having the disease → P(No Disease) = 0.99 \n",
    "\n",
    " **A person takes the test and gets a positive result. What is the probability they actually have the disease?**\n",
    "\n",
    " Let:\n",
    "\n",
    " • A = Disease\n",
    "\n",
    " • B = Positive test \n",
    "\n",
    " **We apply Bayes’ Theorem:**\n",
    "     \n",
    "  - P(Disease / Positive) = [P(Positive / Disease) * P(Disease)] / P(Positive)\n",
    "\n",
    " First, calculate P(Positive):\n",
    "\n",
    "   - P(Positive) = P(Positive / Disease) * P(Disease) + P(Positive / No Disease) * P(No  Disease)\n",
    " \n",
    "   - P(Positive) = 0.99 * 0.01 + 0.05 * 0.99\n",
    "\n",
    "   - P(Positive) = 0.0099 + 0.0495 = 0.0594\n",
    "\n",
    " **Now calculate P(Disease / Positive):**\n",
    "     \n",
    "  - P(Disease / Positive) = 0.0099 / 0.0594 ≈ 0.1667\n",
    " "
   ]
  },
  {
   "cell_type": "markdown",
   "id": "55722da1-bd37-48ac-9e9a-d58bf3a32d1d",
   "metadata": {},
   "source": [
    "### Conclusion: \n",
    " **Even though the test is 99% accurate, the probability that a person\n",
    " actually has the disease given a positive result is only 16.67%. This is because the\n",
    " disease is very rare, and false positives affect the result significantly**"
   ]
  }
 ],
 "metadata": {
  "kernelspec": {
   "display_name": "Python [conda env:base] *",
   "language": "python",
   "name": "conda-base-py"
  },
  "language_info": {
   "codemirror_mode": {
    "name": "ipython",
    "version": 3
   },
   "file_extension": ".py",
   "mimetype": "text/x-python",
   "name": "python",
   "nbconvert_exporter": "python",
   "pygments_lexer": "ipython3",
   "version": "3.12.7"
  }
 },
 "nbformat": 4,
 "nbformat_minor": 5
}
