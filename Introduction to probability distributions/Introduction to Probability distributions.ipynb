{
 "cells": [
  {
   "cell_type": "markdown",
   "id": "aca18dc2-e5b0-418e-ab9b-ed92c6c7353e",
   "metadata": {},
   "source": [
    "# Introduction to Probability distributions"
   ]
  },
  {
   "cell_type": "markdown",
   "id": "49a676e9-c913-4e57-8284-e67378c68e3f",
   "metadata": {},
   "source": [
    "### Imagine you’re analyzing real-world data — sales, weather, clicks, heights, etc.\n",
    " You’ll notice:\n",
    "\n",
    " • Some values are more likely than others.\n",
    "     \n",
    " • There’s a pattern to how data is spread.\n",
    "\n",
    " That pattern is described by a probability distribution."
   ]
  },
  {
   "cell_type": "markdown",
   "id": "e0b5f070-2355-4e88-a66b-8c1241d270cc",
   "metadata": {},
   "source": [
    "#### In short:\n",
    " A probability distribution tells you how likely different outcomes are."
   ]
  },
  {
   "cell_type": "markdown",
   "id": "dca55b00-4f69-4bba-82dd-ed0fe892f8d6",
   "metadata": {},
   "source": [
    "### What is a Probability Distribution?"
   ]
  },
  {
   "cell_type": "markdown",
   "id": "54bdb8ee-9bb0-48ed-836a-069b904a6360",
   "metadata": {},
   "source": [
    "A probability distribution is a mathematical function or table that:\n",
    "\n",
    " • Assigns probabilities to all possible outcomes of a random process."
   ]
  },
  {
   "cell_type": "markdown",
   "id": "f8e680bf-2b84-4d3b-9bb6-2085c158ea21",
   "metadata": {},
   "source": [
    "### 1. Discrete Probability Distribution\n",
    "• For outcomes you can count (e.g. number of heads in 3 coin tosses).\n",
    "\n",
    "• Example: Binomial Distribution\n",
    "\n",
    " Think: “What’s the probability I get exactly 2 heads in 3 coin tosses?”\n"
   ]
  },
  {
   "cell_type": "markdown",
   "id": "7e7745a4-bfb3-4c05-b3aa-cc49208cacb4",
   "metadata": {},
   "source": [
    "### 2. Continuous Probability Distribution\n",
    " • For outcomes that can be any number in a range (e.g. height, weight).\n",
    "\n",
    " •  Example: Normal Distribution\n",
    "\n",
    " Think: “What’s the probability someone’s height is between 165 cm and 170 cm?”"
   ]
  },
  {
   "cell_type": "markdown",
   "id": "4c47995c-02d0-4caa-ba2e-a0e6214dd8ce",
   "metadata": {},
   "source": [
    "## A Simple Analogy"
   ]
  },
  {
   "cell_type": "markdown",
   "id": "c11e708e-6f02-4ae4-8c70-82d61b7c29b1",
   "metadata": {},
   "source": [
    "#### Let’s say you roll a die:"
   ]
  },
  {
   "cell_type": "markdown",
   "id": "c318a133-852d-4011-b2da-ed298aa453bd",
   "metadata": {},
   "source": [
    "• Outcomes = {1, 2, 3, 4, 5, 6}\n",
    "• Each has a probability of 1/6"
   ]
  },
  {
   "cell_type": "markdown",
   "id": "f477c3ef-67d7-491b-b4ef-4efb2f6629ef",
   "metadata": {},
   "source": [
    " This is a uniform distribution (discrete)."
   ]
  },
  {
   "cell_type": "markdown",
   "id": "09112cb4-7725-42b4-9702-8616d297213a",
   "metadata": {},
   "source": [
    "Now imagine measuring people’s heights:\n",
    " • You don’t get fixed values.\n",
    " •  Instead, you get a curve — most people around average height, fewer very short or very tall.\n",
    "\n",
    " That’s a normal distribution (continuous)"
   ]
  },
  {
   "cell_type": "markdown",
   "id": "ac7e6121-9609-44f9-b5ac-274d78755385",
   "metadata": {},
   "source": [
    "## Why Are Distributions Useful in Data Science?"
   ]
  },
  {
   "cell_type": "markdown",
   "id": "11e7bddb-9383-4bcb-8628-f6cf29b5a693",
   "metadata": {},
   "source": [
    "1. Model real-world randomness (user behavior, errors, arrivals, etc.)\n",
    "\n",
    "2. Make predictions (how likely is a customer to buy?)\n",
    "\n",
    "3. Run simulations"
   ]
  },
  {
   "cell_type": "markdown",
   "id": "b9bbc92c-97a9-4a66-9db3-09d0468b1103",
   "metadata": {},
   "source": [
    "Summary:\n",
    "\n",
    "Type\t                      Example\t                                        Used For\n",
    "\n",
    "Discrete\t              Binomial, Poisson\t                                  Count of events\n",
    "Continuous\t              Normal, Uniform\t                                  Measuring quantities"
   ]
  }
 ],
 "metadata": {
  "kernelspec": {
   "display_name": "Python [conda env:base] *",
   "language": "python",
   "name": "conda-base-py"
  },
  "language_info": {
   "codemirror_mode": {
    "name": "ipython",
    "version": 3
   },
   "file_extension": ".py",
   "mimetype": "text/x-python",
   "name": "python",
   "nbconvert_exporter": "python",
   "pygments_lexer": "ipython3",
   "version": "3.12.7"
  }
 },
 "nbformat": 4,
 "nbformat_minor": 5
}
