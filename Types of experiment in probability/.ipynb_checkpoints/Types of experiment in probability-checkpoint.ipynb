{
 "cells": [
  {
   "cell_type": "markdown",
   "id": "cbf616d4-c11c-436e-8d19-853632ac2a2f",
   "metadata": {},
   "source": [
    "# Types of Experiments "
   ]
  },
  {
   "cell_type": "markdown",
   "id": "e7fb6dac-4068-46d9-b678-ecdcc096bbef",
   "metadata": {},
   "source": [
    "## 1. Deterministic – Always produces the same outcome when repeated under identical conditions.\n",
    "\n",
    "## 2. Probabilistic / Random – Outcome is uncertain and may vary even if the experiment is repeated under identical conditions"
   ]
  },
  {
   "cell_type": "markdown",
   "id": "6ee20624-aaa6-4030-9551-393623d0644c",
   "metadata": {},
   "source": [
    "### Sample Space\n",
    "\n",
    " #### The sample space is the set of all possible outcomes of a probabilistic experiment.\n",
    "\n",
    " Examples:- Rolling a Die → { 1, 2, 3, 4, 5, 6 }\n",
    "\n",
    "             Tossing 2 Coins → { (HH), (HT), (TH), (TT) }"
   ]
  },
  {
   "cell_type": "markdown",
   "id": "5fb1ada9-9a15-45f8-b8f8-a48baad873eb",
   "metadata": {},
   "source": [
    "### For Coins- Number of possible outcomes = 2ⁿ\n",
    "(where n is the number of coins)\n",
    "\n",
    "### For Dice- Number of possible outcomes = 6ⁿ\n",
    "(where n is the number of dice)"
   ]
  },
  {
   "cell_type": "markdown",
   "id": "872e6bec-6b66-4c8b-8c34-19d8dc6d913f",
   "metadata": {},
   "source": [
    "### For Cards\n",
    "\n",
    " #### A standard deck contains 52 cards:\n",
    "  - 26 Red Cards:\n",
    "\n",
    "     - 13 ♥️ Hearts → A, 2–10, J, Q, K\n",
    "\n",
    "     - 13 ♦️ Diamonds → A, 2–10, J, Q, \n",
    "\n",
    " - 26 Black Cards\n",
    "\n",
    "    - 13 ♠️ Spades → A, 2–10, J, Q, K\n",
    "    - 13 ♣️ Clubs → A, 2–10, J, Q, K"
   ]
  },
  {
   "cell_type": "markdown",
   "id": "30f4f688-912d-45ff-809a-586d176e90eb",
   "metadata": {},
   "source": [
    "#### Conclusion:\n",
    " **Understanding the basic types of experiments and the concept of sample space is\n",
    " essential for solving probability problems. Knowing the number of possible\n",
    " outcomes for coins, dice, and cards helps in calculating probabilities accurately.\n",
    " Mastery of these fundamentals forms the foundation for more advanced topics in\n",
    " probability and statistics.**"
   ]
  }
 ],
 "metadata": {
  "kernelspec": {
   "display_name": "Python [conda env:base] *",
   "language": "python",
   "name": "conda-base-py"
  },
  "language_info": {
   "codemirror_mode": {
    "name": "ipython",
    "version": 3
   },
   "file_extension": ".py",
   "mimetype": "text/x-python",
   "name": "python",
   "nbconvert_exporter": "python",
   "pygments_lexer": "ipython3",
   "version": "3.12.7"
  }
 },
 "nbformat": 4,
 "nbformat_minor": 5
}
