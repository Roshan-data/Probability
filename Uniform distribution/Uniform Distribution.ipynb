{
 "cells": [
  {
   "cell_type": "markdown",
   "id": "a9d97ad3-b5e1-4288-ad88-8c1d92807ff2",
   "metadata": {},
   "source": [
    "# Uniform Distribution"
   ]
  },
  {
   "cell_type": "markdown",
   "id": "b0e03327-1dca-4794-bbe6-3e237eb40276",
   "metadata": {},
   "source": [
    " A uniform distribution is when every outcome is equally likely"
   ]
  },
  {
   "cell_type": "markdown",
   "id": "e7e03309-3c58-4c32-acaa-0c0ad5167de8",
   "metadata": {},
   "source": [
    "### Simple Example: Rolling a Fair Die"
   ]
  },
  {
   "cell_type": "markdown",
   "id": "353f25c4-e020-493a-8757-9a9aa9bfe62e",
   "metadata": {},
   "source": [
    " Possible outcomes: {1, 2, 3, 4, 5, 6}\n",
    " Each number has a 1/6 chance → That’s a discrete uniform distribution"
   ]
  },
  {
   "cell_type": "markdown",
   "id": "33ac501d-cd05-4d2e-86b8-e35a4f8e3a84",
   "metadata": {},
   "source": [
    "### Continuous Version:"
   ]
  },
  {
   "cell_type": "markdown",
   "id": "b1d3df33-8569-4bfe-88e4-96f517f98a3f",
   "metadata": {},
   "source": [
    " Let’s say we randomly pick a number between 0 and 1.\n",
    " • Every value in that range is equally likely.\n",
    " • That’s a continuous uniform distribution"
   ]
  },
  {
   "cell_type": "markdown",
   "id": "14c387fa-af9b-4594-890d-48107b9875ec",
   "metadata": {},
   "source": [
    "## Graphs to Visualize"
   ]
  },
  {
   "cell_type": "markdown",
   "id": "e9df9621-8603-40eb-a6b6-2e0601730346",
   "metadata": {},
   "source": [
    "### 1. Discrete Uniform (like a die roll)"
   ]
  },
  {
   "cell_type": "markdown",
   "id": "60b0d616-3ef2-494a-abb1-1324437cf5ea",
   "metadata": {},
   "source": [
    " Outcome:\n",
    " 1 2 3 4 5 6\n",
    " Probability:|---|---|---|---|---|---|\n",
    " 1/6 for each → flat bars"
   ]
  },
  {
   "cell_type": "markdown",
   "id": "9bc5769e-a6ae-40dd-9559-cd6a2cd92a90",
   "metadata": {},
   "source": [
    "### Discrete Uniform Distribution Formula:"
   ]
  },
  {
   "cell_type": "markdown",
   "id": "70ecd68c-82d3-47b7-b7ec-04de70ccbe2c",
   "metadata": {},
   "source": [
    " P(X = x) = 1 / n\n",
    " • Where n is the number of possible outcomes (e.g., for a 6-sided die, P(rolling a 4) = 1/6)"
   ]
  },
  {
   "cell_type": "markdown",
   "id": "09621742-1fda-415e-81d1-297b0357a1bf",
   "metadata": {},
   "source": [
    "### 2. Continuous Uniform (0 to 1)"
   ]
  },
  {
   "cell_type": "markdown",
   "id": "9cd8cd7b-9675-43a0-9999-3dc11207acde",
   "metadata": {},
   "source": [
    "• It’s just a flat horizontal line from x = 0 to x = 1\n",
    "• The probability density is constant (say 1.0) across that interval"
   ]
  },
  {
   "cell_type": "markdown",
   "id": "bba4d1b9-b6ba-4687-ae7d-85a37139b539",
   "metadata": {},
   "source": [
    "Continuous Uniform Distribution Formula:\n",
    " f(x) = 1 / (b - a) for values between a and b\n",
    " Outside the range a to  b , the probability is 0"
   ]
  },
  {
   "cell_type": "markdown",
   "id": "1230a8b1-261a-4603-8b2c-4d700c9832c5",
   "metadata": {},
   "source": [
    "### Why It’s Useful in Data Science"
   ]
  },
  {
   "cell_type": "markdown",
   "id": "6f602b16-6485-4bda-a47b-b9dac94644eb",
   "metadata": {},
   "source": [
    " It models pure randomness\n",
    " It’s used to simulate random choices\n",
    " Used in Generating random numbers (np.random.uniform )"
   ]
  },
  {
   "cell_type": "markdown",
   "id": "01e1cc04-ecaa-4e67-9515-a44e05aecf31",
   "metadata": {},
   "source": [
    "### In Code"
   ]
  },
  {
   "cell_type": "code",
   "execution_count": 1,
   "id": "2b1a0d35-c37f-48e1-9531-0ffbe1a42682",
   "metadata": {},
   "outputs": [
    {
     "data": {
      "image/png": "[encoded data removed]",
      "text/plain": [
       "<Figure size 640x480 with 1 Axes>"
      ]
     },
     "metadata": {},
     "output_type": "display_data"
    }
   ],
   "source": [
    " import numpy as np\n",
    " import matplotlib.pyplot as plt\n",
    " # Continuous uniform from 0 to 1\n",
    " samples = np.random.uniform(0, 1, 10000)\n",
    " plt.hist(samples, bins=50, density=True, alpha=0.6, color='skyblue')\n",
    " plt.title(\"Continuous Uniform Distribution (0 to 1)\")\n",
    " plt.xlabel(\"Value\")\n",
    " plt.ylabel(\"Probability Density\")\n",
    " plt.grid(True)\n",
    " plt.show()"
   ]
  }
 ],
 "metadata": {
  "kernelspec": {
   "display_name": "Python [conda env:base] *",
   "language": "python",
   "name": "conda-base-py"
  },
  "language_info": {
   "codemirror_mode": {
    "name": "ipython",
    "version": 3
   },
   "file_extension": ".py",
   "mimetype": "text/x-python",
   "name": "python",
   "nbconvert_exporter": "python",
   "pygments_lexer": "ipython3",
   "version": "3.12.7"
  }
 },
 "nbformat": 4,
 "nbformat_minor": 5
}
