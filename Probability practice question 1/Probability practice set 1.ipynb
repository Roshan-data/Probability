{
 "cells": [
  {
   "cell_type": "markdown",
   "id": "6425cf44-401b-4179-9ce2-4f887741339e",
   "metadata": {},
   "source": [
    "# Questions"
   ]
  },
  {
   "cell_type": "markdown",
   "id": "28a19c97-d81f-4523-bc64-92ba30ef3edb",
   "metadata": {},
   "source": [
    "### 1. You roll a fair six-sided die. What is the probability of getting an even number?"
   ]
  },
  {
   "cell_type": "markdown",
   "id": "32628a08-69b4-4312-b845-804638d06878",
   "metadata": {},
   "source": [
    "### 2. Two coins are tossed. Find the sample space associated with this random experiment."
   ]
  },
  {
   "cell_type": "markdown",
   "id": "91d44b31-712d-4412-8503-e97db973e9b7",
   "metadata": {},
   "source": [
    "### 3. Two six-sided dice are rolled. What is the probability that the sum is 7?"
   ]
  },
  {
   "cell_type": "markdown",
   "id": "6acf0e9e-81bb-4964-97e2-26fb2493ad5b",
   "metadata": {},
   "source": [
    "### 4. A bag contains 3 red, 2 blue, and 5 green balls. What is the probability of randomly selecting a red ball?"
   ]
  },
  {
   "cell_type": "markdown",
   "id": "e682efcb-a628-49b2-af16-2673508107a9",
   "metadata": {},
   "source": [
    "### 5. A card is drawn at random from a deck. Find the probability of:- \n",
    " - Getting a heart- \n",
    " - Getting a face car-"
   ]
  },
  {
   "cell_type": "markdown",
   "id": "366e3202-378b-4f3c-ae77-9442563132fe",
   "metadata": {},
   "source": [
    "# Solutions"
   ]
  },
  {
   "cell_type": "markdown",
   "id": "efecc9ee-93d8-49ff-a871-5f62a563bb23",
   "metadata": {},
   "source": [
    "<img src =\"Prob 1.png\" width =\"700\"/>"
   ]
  },
  {
   "cell_type": "markdown",
   "id": "4608e276-4238-4c80-be38-ca540eca672a",
   "metadata": {},
   "source": [
    "<img src = \"Prob 2.png\" width =\"700\"/>"
   ]
  },
  {
   "cell_type": "code",
   "execution_count": null,
   "id": "90f60676-b104-4b00-9b24-130b9268fefa",
   "metadata": {},
   "outputs": [],
   "source": []
  }
 ],
 "metadata": {
  "kernelspec": {
   "display_name": "Python [conda env:base] *",
   "language": "python",
   "name": "conda-base-py"
  },
  "language_info": {
   "codemirror_mode": {
    "name": "ipython",
    "version": 3
   },
   "file_extension": ".py",
   "mimetype": "text/x-python",
   "name": "python",
   "nbconvert_exporter": "python",
   "pygments_lexer": "ipython3",
   "version": "3.12.7"
  }
 },
 "nbformat": 4,
 "nbformat_minor": 5
}
