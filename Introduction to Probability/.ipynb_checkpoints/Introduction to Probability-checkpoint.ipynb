{
 "cells": [
  {
   "cell_type": "markdown",
   "id": "b4c451c1-4e98-458d-ac7d-6e416c994adf",
   "metadata": {},
   "source": [
    "# Introduction to Probability in Data Science\n",
    "\n",
    "## .What is Probability?\n",
    "  **Probability is a measure of the likelihood that a particular event will occur. It ranges\n",
    "  from 0 (impossible) to 1 (certain). Probability is used to model uncertanity with\n",
    "  data and make informed decisions based on that uncertainty.**\n",
    "\n",
    " ####  Examples:\n",
    "      \n",
    "• Rolling a die \n",
    "      \n",
    "• Predicting customer churn\n",
    "      \n",
    "• Tossing a coin "
   ]
  },
  {
   "cell_type": "markdown",
   "id": "cf3a04bb-aa21-4b9d-8924-27d24a906287",
   "metadata": {},
   "source": [
    "## Role of Probability in Data Science\n",
    "\n",
    "**Probability forms the foundation of statistical inference, machine learning, and\n",
    " decision-making under uncertainty. Data scientists use it to:**\n",
    "\n",
    "• Estimate unknown values from sample data\n",
    "\n",
    "• Evaluate risks and uncertainties\n",
    "\n",
    "• Make predictions using probabilistic models\n"
   ]
  },
  {
   "cell_type": "markdown",
   "id": "c63aeafe-20b2-4fa1-9a4a-dc40ba046c7d",
   "metadata": {},
   "source": [
    "## Types of Probability\n",
    "\n",
    "### Theoretical Probability:\n",
    "\n",
    "#### Based on known possible outcomes.\n",
    " • Example: Probability of getting heads in a fair coin = 0.5\n",
    "\n",
    "#### Empirical (Experimental) Probability:\n",
    " Based on observed data.\n",
    "     \n",
    " • Example: Probability that a user clicks an ad based on 10,000 past impressions\n"
   ]
  },
  {
   "cell_type": "markdown",
   "id": "b7b85bcd-55c4-407f-b9ef-05165001042f",
   "metadata": {},
   "source": [
    "### Key Concepts\n",
    "• Sample Space (S): All possible outcomes of an experiment.\n",
    "\n",
    "• Event (E): A subset of the sample space; one or more outcomes\n",
    "\n",
    "### Example:\n",
    "\n",
    " For rolling a die:\n",
    "\n",
    "  • Sample space: {1, 2, 3, 4, 5, 6}\n",
    "\n",
    "  • Event (even number): {2, 4, 6}\n"
   ]
  },
  {
   "cell_type": "markdown",
   "id": "5071d4e4-5917-4e07-bdbb-2d2f664a09c2",
   "metadata": {},
   "source": [
    "### Real-World Business Scenarios\n",
    "\n",
    "• Predicting customer conversion rate from a marketing campaign\n",
    "\n",
    "• Estimating product failure rate in manufacturing\n",
    "\n",
    "• Calculating insurance risks\n",
    "\n",
    "• Detecting fraud in financial transactions\n"
   ]
  },
  {
   "cell_type": "markdown",
   "id": "4a3becd7-a151-4d5d-8de9-a24a9250031c",
   "metadata": {},
   "source": [
    "## Calculating Probability:\n",
    "\n",
    "### Formula:\n",
    "# P(E) = Number of favorable outcomes / Total number of outcomes\n",
    " Where:\n",
    "\n",
    "• P(E) is the probability of event E\n",
    "\n",
    "•  Number of favorable outcomes is the count of outcomes that satisfy event E\n",
    "\n",
    "•  Total number of outcomes is the count of all possible outcomes in the sample space\n",
    "\n",
    "Example:\n",
    "\n",
    "- If you roll a die, the probability of rolling a 3 is:\n",
    "- P(rolling a 3) = Number of favorable outcomes (1) / Total number of outcomes (6) = 1/6 ≈ 0.1667"
   ]
  }
 ],
 "metadata": {
  "kernelspec": {
   "display_name": "Python [conda env:base] *",
   "language": "python",
   "name": "conda-base-py"
  },
  "language_info": {
   "codemirror_mode": {
    "name": "ipython",
    "version": 3
   },
   "file_extension": ".py",
   "mimetype": "text/x-python",
   "name": "python",
   "nbconvert_exporter": "python",
   "pygments_lexer": "ipython3",
   "version": "3.12.7"
  }
 },
 "nbformat": 4,
 "nbformat_minor": 5
}
