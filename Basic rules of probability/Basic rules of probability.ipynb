{
 "cells": [
  {
   "cell_type": "markdown",
   "id": "b069dc08-1ec0-4e8c-8077-a43fcaf54cb3",
   "metadata": {},
   "source": [
    "# Basic Rules of Probability"
   ]
  },
  {
   "cell_type": "markdown",
   "id": "307b0af3-3c74-45ea-9d91-40eb920101dc",
   "metadata": {},
   "source": [
    "### 1.Important Definitions\n",
    "\n",
    "**In probability, understanding the basic definitions is crucial for grasping more\n",
    " complex concepts.**\n",
    "     \n",
    "•Experiment: An action or process that leads to one or more outcomes (e.g.,\n",
    " rolling a die). Deterministic experiments have predictable outcomes, while\n",
    " probabilistic or random experiments have uncertain outcomes.\n",
    "\n",
    "• Outcome: A possible result of an experiment (e.g., rolling a 3 on a die).\n",
    "\n",
    "• P(AUB): The probability of event A or event B occurring.\n",
    "    \n",
    "• P(A∩B): The probability of both events A and B occurring.\n",
    "    \n",
    "• Sample Space (S): The set of all possible outcomes of an experiment.\n",
    "    \n",
    "• Event (E): A subset of the sample space.\n",
    "    \n",
    "• Mutually Exclusive Events: Two events that cannot occur at the same time\n",
    " (e.g., rolling a 2 and rolling a 5 on a die). P(A∩B)=0\n",
    "\n",
    "• Independent Events: Two events where the occurrence of one does not affect\n",
    " the other. P(A∩B)=P(A)⋅P(B)\n",
    "\n",
    "• Certain Event: An event that is guaranteed to happen, with a probability of 1.\n",
    "\n",
    "• Impossible Event: An event that cannot happen, with a probability of 0.\n",
    "\n",
    "• Exhaustive Events: A set of events that cover the entire sample space,\n",
    " meaning at least one of them must occur.\n",
    "     \n",
    "• Probability (P): A measure of the likelihood that an event will occur, ranging\n",
    " from 0 (impossible) to 1 (certain).\n"
   ]
  },
  {
   "cell_type": "markdown",
   "id": "d920dc0c-9e34-465b-a49d-a13777960ca6",
   "metadata": {},
   "source": [
    "## 2. The Complement Rule\n",
    " The complement of an event A is the event that A does not occur.\n",
    "\n",
    "• Notation: Aᶜ\n",
    "\n",
    "• Rule: P(Aᶜ) = 1 − P(A)\n",
    "\n",
    "#### Example:\n",
    " If the probability of rain today is 0.3, the probability it won’t rain is: - P(No Rain) = 1\n",
    " − 0.3 = 0.7"
   ]
  },
  {
   "cell_type": "markdown",
   "id": "f50d9f48-c2f6-4eb5-8091-8a9071fb038a",
   "metadata": {},
   "source": [
    "### 3. The Addition Rule\n",
    " Used to calculate the probability of the union of two events.\n",
    " For general events:\n",
    "\n",
    "- P(A or B) = P(A) + P(B) − P(A and B)\n",
    "\n",
    "#### For mutually exclusive events:\n",
    "\n",
    "- P(A or B) = P(A) + P(B)\n",
    "\n",
    "### Example:\n",
    " • P(A) = 0.4, P(B) = 0.5, P(A and B) = 0.2\n",
    "\n",
    " • P(A or B) = 0.4 + 0.5 − 0.2 = 0.7\n"
   ]
  },
  {
   "cell_type": "markdown",
   "id": "d16853eb-a072-464b-bac1-047a955bddc9",
   "metadata": {},
   "source": [
    "### 4.The Multiplication Rule\n",
    " Used to find the probability that two events occur together.\n",
    " For Independent events:\n",
    "     \n",
    " - P(A and B) = P(A) × P(B)\n",
    "\n",
    "### Example: A event A is rolling a 3 on a first throw of a die, and event B is rolling an even number on second throw.\n",
    "     \n",
    "• P(A) = 1/6 (rolling a 3)\n",
    "\n",
    "• P(B) = 3/6 (rolling a 2, 4, or 6)\n",
    "\n",
    "• P(A and B) = P(A) × P(B) = (1/6) × (3/6) = 1/12\n",
    "\n",
    "**Example: A event A is rolling a 3 on a first throw of a die, and event B is rolling an\n",
    " even number on second throw.**\n",
    "\n",
    "\n",
    "\n",
    "### For Dependent events:\n",
    "\n",
    " P(A and B) = P(A) × P(B | A)\n",
    "\n",
    "**Example: A bag contains 5 red and 3 blue balls. Two balls are drawn without\n",
    "replacement. Let:**\n",
    "• Event A be drawing a red ball first.\n",
    "\n",
    "• Event B be drawing a red ball second.\n",
    "\n",
    "• P(A) = 5/8 (5 red balls out of 8)\n",
    "\n",
    "• After removing one red ball, there are 4 red left out of 7 total: P(B/A) = 4/7\n",
    "\n",
    "• P(A and B) = (5/8) X (4/7)= 20/56 = 5/14\n",
    "\n",
    "\n",
    " So the probability of drawing two red balls without replacement is 5/14\n"
   ]
  },
  {
   "cell_type": "markdown",
   "id": "a52227a0-a886-41de-9938-a2b17a4fb4f3",
   "metadata": {},
   "source": [
    "### 5.Independent vs Dependent Events - More\n",
    "####  examples:\n",
    "\n",
    "• Independent: The outcome of one event does not affect the other\n",
    "   Example: Tossing two coins.\n",
    "\n",
    "•  Dependent: One event affects the probability of the other. \n",
    "    Example: Drawing two cards without replacement."
   ]
  },
  {
   "cell_type": "markdown",
   "id": "360b879e-2eeb-4ba3-8866-91cb0c007b76",
   "metadata": {},
   "source": [
    "### 6. Mutually Exclusive Events\n",
    "\n",
    "#### Two events are mutually exclusive if they cannot happen at the same time.\n",
    " Example:\n",
    "  \n",
    "• Event A: Rolling a 2\n",
    "\n",
    "• Event A: Rolling a 2\n",
    "\n",
    "•These are mutually exclusive because a die can’t show both at once"
   ]
  },
  {
   "cell_type": "markdown",
   "id": "e921eaad-5532-4ea7-90e2-35618a8e6d56",
   "metadata": {},
   "source": [
    "### 7. Summary:\n",
    "\n",
    " **This lesson covered key probability rules and concepts that are foundational for\n",
    " more advanced topics like distributions and statistical inference.**\n",
    "                                                                               \n",
    "   • Complement Rule: P(Aᶜ) = 1 − P(A)\n",
    "\n",
    "   •  Addition Rule for unions\n",
    "                   \n",
    "   • Multiplication Rule for intersections\n",
    "                   \n",
    "   • Understanding independence and exclusivity"
   ]
  }
 ],
 "metadata": {
  "kernelspec": {
   "display_name": "Python [conda env:base] *",
   "language": "python",
   "name": "conda-base-py"
  },
  "language_info": {
   "codemirror_mode": {
    "name": "ipython",
    "version": 3
   },
   "file_extension": ".py",
   "mimetype": "text/x-python",
   "name": "python",
   "nbconvert_exporter": "python",
   "pygments_lexer": "ipython3",
   "version": "3.12.7"
  }
 },
 "nbformat": 4,
 "nbformat_minor": 5
}
